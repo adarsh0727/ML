{
  "nbformat": 4,
  "nbformat_minor": 0,
  "metadata": {
    "colab": {
      "provenance": []
    },
    "kernelspec": {
      "name": "python3",
      "display_name": "Python 3"
    },
    "language_info": {
      "name": "python"
    }
  },
  "cells": [
    {
      "cell_type": "markdown",
      "source": [
        "#UI22EC02, Adarsh Singh\n",
        "\n",
        "##AIM:-\n",
        "\n",
        "### 1) Implement 2 and 3 input Logic Gates using Neural Networks with and without employing the libraries (Document Attached for the Reference).\n",
        "### 2) Perform the quadratic function implementation task using Neural Networks and validate various parameter optimisation techniques (Reference document attached)\n"
      ],
      "metadata": {
        "id": "NITkF2t7rCNe"
      }
    },
    {
      "cell_type": "code",
      "execution_count": null,
      "metadata": {
        "colab": {
          "base_uri": "https://localhost:8080/"
        },
        "id": "PVhzCRYOrBCG",
        "outputId": "3ff1ab68-a04b-4de6-b532-c447efd67c71"
      },
      "outputs": [
        {
          "output_type": "stream",
          "name": "stdout",
          "text": [
            "2-Input Logic Gates\n",
            "\n",
            "AND Gate:\n",
            "Input: (0, 0) -> Output: 0\n",
            "Input: (0, 1) -> Output: 0\n",
            "Input: (1, 0) -> Output: 0\n",
            "Input: (1, 1) -> Output: 1\n",
            "\n",
            "OR Gate:\n",
            "Input: (0, 0) -> Output: 0\n",
            "Input: (0, 1) -> Output: 1\n",
            "Input: (1, 0) -> Output: 1\n",
            "Input: (1, 1) -> Output: 1\n",
            "\n",
            "NAND Gate:\n",
            "Input: (0, 0) -> Output: 1\n",
            "Input: (0, 1) -> Output: 1\n",
            "Input: (1, 0) -> Output: 1\n",
            "Input: (1, 1) -> Output: 0\n",
            "\n",
            "NOR Gate:\n",
            "Input: (0, 0) -> Output: 1\n",
            "Input: (0, 1) -> Output: 0\n",
            "Input: (1, 0) -> Output: 0\n",
            "Input: (1, 1) -> Output: 0\n"
          ]
        }
      ],
      "source": [
        "import numpy as np\n",
        "\n",
        "# Activation function\n",
        "def step_function(x):\n",
        "    return 1 if x >= 0 else 0\n",
        "\n",
        "# neuron Model for 2-input Logic Gates\n",
        "def neuron_2_input(weights, bias, inputs):\n",
        "    summation = np.dot(weights, inputs) + bias\n",
        "    return step_function(summation)\n",
        "\n",
        "\n",
        "# weights and bias for AND, OR, NAND, NOR gates\n",
        "gates_2ip = {\n",
        "    \"AND\":    (np.array([1, 1]), -1.5),\n",
        "    \"OR\":     (np.array([1, 1]), -0.5),\n",
        "    \"NAND\":   (np.array([-1, -1]), 1.5),\n",
        "    \"NOR\":    (np.array([-1, -1]), 0.5)\n",
        "}\n",
        "\n",
        "\n",
        "# Testing 2-input logic gates\n",
        "print(\"2-Input Logic Gates\")\n",
        "for gate, (weights, bias) in gates_2ip.items():\n",
        "    print(f\"\\n{gate} Gate:\")\n",
        "    for x1 in [0, 1]:\n",
        "        for x2 in [0, 1]:\n",
        "            result = neuron_2_input(weights, bias, np.array([x1, x2]))\n",
        "            print(f\"Input: ({x1}, {x2}) -> Output: {result}\")\n",
        "\n",
        "\n"
      ]
    },
    {
      "cell_type": "code",
      "source": [
        "import numpy as np\n",
        "\n",
        "class NeuralNetwork:\n",
        "    def __init__(self, input_size, hidden_size, output_size):\n",
        "        self.input_size = input_size\n",
        "        self.hidden_size = hidden_size\n",
        "        self.output_size = output_size\n",
        "\n",
        "        self.weights_input_hidden = np.random.randn(self.input_size, self.hidden_size)\n",
        "        self.weights_hidden_output = np.random.randn(self.hidden_size, self.output_size)\n",
        "\n",
        "        self.bias_hidden = np.zeros((1, self.hidden_size))\n",
        "        self.bias_output = np.zeros((1, self.output_size))\n",
        "\n",
        "    def sigmoid(self, x):\n",
        "        return 1 / (1 + np.exp(-x))\n",
        "\n",
        "    def sigmoid_derivative(self, x):\n",
        "        return x * (1 - x)\n",
        "\n",
        "    def feedforward(self, X):\n",
        "        self.hidden_activation = np.dot(X, self.weights_input_hidden) + self.bias_hidden\n",
        "        self.hidden_output = self.sigmoid(self.hidden_activation)\n",
        "\n",
        "        self.output_activation = np.dot(self.hidden_output, self.weights_hidden_output) + self.bias_output\n",
        "        self.predicted_output = self.sigmoid(self.output_activation)\n",
        "\n",
        "        return self.predicted_output\n",
        "\n",
        "\n",
        "    def backward(self, X, y, learning_rate):\n",
        "        output_error = y - self.predicted_output\n",
        "        output_delta = output_error * self.sigmoid_derivative(self.predicted_output)\n",
        "\n",
        "        hidden_error = np.dot(output_delta, self.weights_hidden_output.T)\n",
        "        hidden_delta = hidden_error * self.sigmoid_derivative(self.hidden_output)\n",
        "\n",
        "        self.weights_hidden_output += np.dot(self.hidden_output.T, output_delta) * learning_rate\n",
        "        self.bias_output += np.sum(output_delta, axis=0, keepdims=True) * learning_rate\n",
        "        self.weights_input_hidden += np.dot(X.T, hidden_delta) * learning_rate\n",
        "        self.bias_hidden += np.sum(hidden_delta, axis=0, keepdims=True) * learning_rate\n",
        "\n",
        "    def train(self, X, y, epochs, learning_rate):\n",
        "        for epoch in range(epochs):\n",
        "            output = self.feedforward(X)\n",
        "            self.backward(X, y, learning_rate)\n",
        "            if epoch % 4000 == 0:\n",
        "                loss = np.mean(np.square(y - output))\n",
        "                print(f\"Epoch {epoch}, Loss:{loss}\")\n",
        "\n",
        "X = np.array([[0, 0], [0, 1], [1, 0], [1, 1]])\n",
        "y = np.array([[0], [1], [1], [0]])\n",
        "\n",
        "nn = NeuralNetwork(input_size=2, hidden_size=4, output_size=1)\n",
        "nn.train(X, y, epochs=10000, learning_rate=0.1)\n",
        "\n",
        "output = nn.feedforward(X)\n",
        "print(\"Predictions after training:\")\n",
        "print(output)\n",
        "\n",
        "\n",
        "\n"
      ],
      "metadata": {
        "colab": {
          "base_uri": "https://localhost:8080/"
        },
        "id": "7a5gISjLu4YW",
        "outputId": "77462429-350e-4216-88a8-f013f3243bab"
      },
      "execution_count": null,
      "outputs": [
        {
          "output_type": "stream",
          "name": "stdout",
          "text": [
            "Epoch 0, Loss:0.2534645327562654\n",
            "Epoch 4000, Loss:0.01243200735225674\n",
            "Epoch 8000, Loss:0.0026532357071091693\n",
            "Predictions after training:\n",
            "[[0.02525097]\n",
            " [0.95415618]\n",
            " [0.96148588]\n",
            " [0.05540419]]\n"
          ]
        }
      ]
    }
  ]
}