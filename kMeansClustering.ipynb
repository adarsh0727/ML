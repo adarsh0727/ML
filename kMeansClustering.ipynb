{
  "cells": [
    {
      "cell_type": "markdown",
      "metadata": {
        "id": "5C1OfzpoSSff"
      },
      "source": [
        "\n",
        "To implement the K-Means clustering algorithm from scratch and analyse its performance on a given or generated datasets.\n",
        "Write a Python programme to implement the K-Means clustering algorithm from scratch.\n",
        "1. Accept the dataset and the number of clusters (K) as input.\n",
        "2. Initialise centroids randomly.\n",
        "3. Iteratively assign data points to the nearest centroid and update the centroids until convergence.\n",
        "4. Return the final cluster labels and centroids.\n",
        "5. Visualize the clusters and centroids using a scatter plot (e.g., using Matplotlib or Seaborn).\n",
        "6. Analyse the impact of different random initialisations on the clustering results.\n",
        "7. Discuss the convergence criteria and the number of iterations required.\n",
        "\n"
      ]
    },
    {
      "cell_type": "markdown",
      "metadata": {
        "id": "5lRU0QNET8TM"
      },
      "source": [
        "**Dataset 1(randomly created)**"
      ]
    },
    {
      "cell_type": "code",
      "execution_count": 1,
      "metadata": {
        "id": "nE9JRjC0SLSw"
      },
      "outputs": [],
      "source": [
        "# importing required libraries\n",
        "\n",
        "import numpy as np\n",
        "import pandas as pd\n",
        "import matplotlib.pyplot as plt\n",
        "import seaborn as sb\n",
        "import random as rand\n",
        "from sklearn.model_selection import train_test_split"
      ]
    },
    {
      "cell_type": "code",
      "execution_count": null,
      "metadata": {
        "id": "egqC3FcOS3lu"
      },
      "outputs": [],
      "source": [
        "# dataset and some useful functions\n",
        "\n",
        "def distance(center, point):\n",
        "    return np.linalg.norm(center - point)\n",
        "\n",
        "\n",
        "def return_list(point, x):\n",
        "    list_1 = []\n",
        "    for m in point:\n",
        "        list_1.append(m[x])\n",
        "    return list_1\n",
        "\n",
        "\n",
        "points = np.array([[-12, 12], [11, 3], [16, 9], [1, 14], [9, 0], [-2, -6], [0, -23], [-7, 5], [-10, -5], [-22, -8]])\n"
      ]
    },
    {
      "cell_type": "code",
      "execution_count": null,
      "metadata": {
        "colab": {
          "base_uri": "https://localhost:8080/"
        },
        "id": "AhiQNSWMTmJ4",
        "outputId": "fd4e483a-3620-49f1-c4d8-451a8a985673"
      },
      "outputs": [
        {
          "name": "stdout",
          "output_type": "stream",
          "text": [
            "\n",
            "\n",
            "Initial Centroids: [-12  12] [11  3]\n"
          ]
        }
      ],
      "source": [
        "# creating 2(k) arrays for clustering dataset\n",
        "\n",
        "center_1 = points[0]\n",
        "center_2 = points[1]\n",
        "\n",
        "cluster_1 = np.empty((0, 2), int)\n",
        "cluster_2 = np.empty((0, 2), int)\n",
        "\n",
        "print(\"\\n\\nInitial Centroids:\", center_1, center_2)"
      ]
    },
    {
      "cell_type": "code",
      "execution_count": null,
      "metadata": {
        "colab": {
          "base_uri": "https://localhost:8080/",
          "height": 1000
        },
        "id": "jytrUyQ1TKVz",
        "outputId": "ec62a3d9-9618-4b51-d796-9df968d6432c"
      },
      "outputs": [
        {
          "name": "stdout",
          "output_type": "stream",
          "text": [
            "\n",
            "\n",
            "Centroids have changed: [-10.    3.6] [ 6.8 -3.4] \n",
            "\n",
            "Cluster_1:\n",
            " [[-12  12]\n",
            " [  1  14]\n",
            " [ -7   5]\n",
            " [-10  -5]\n",
            " [-22  -8]] \n",
            "\n",
            "Cluster_2:\n",
            " [[ 11   3]\n",
            " [ 16   9]\n",
            " [  9   0]\n",
            " [ -2  -6]\n",
            " [  0 -23]] \n",
            "\n",
            "\n",
            "\n",
            "Clustering completed succesfully \n",
            "Centroids: [-10.    3.6] [ 6.8 -3.4] \n",
            "\n",
            "Cluster_1:\n",
            " [[-12  12]\n",
            " [  1  14]\n",
            " [ -7   5]\n",
            " [-10  -5]\n",
            " [-22  -8]] \n",
            "\n",
            "Cluster_2:\n",
            " [[ 11   3]\n",
            " [ 16   9]\n",
            " [  9   0]\n",
            " [ -2  -6]\n",
            " [  0 -23]]\n"
          ]
        },
        {
          "data": {
            "image/png": "[encoded data removed]",
            "text/plain": [
              "<Figure size 640x480 with 1 Axes>"
            ]
          },
          "metadata": {},
          "output_type": "display_data"
        }
      ],
      "source": [
        "# clustering members based on nearest centroid by finding the eucledian distance\n",
        "\n",
        "while True:\n",
        "    for i in points:\n",
        "        distance_center_1 = distance(center_1, i)\n",
        "        distance_center_2 = distance(center_2, i)\n",
        "        if distance_center_1 < distance_center_2:\n",
        "            cluster_1 = np.append(cluster_1, [i], axis=0)\n",
        "        else:\n",
        "            cluster_2 = np.append(cluster_2, [i], axis=0)\n",
        "\n",
        "    new_c1 = np.mean(cluster_1, axis=0)\n",
        "    new_c2 = np.mean(cluster_2, axis=0)\n",
        "\n",
        "    if np.array_equal(new_c1, center_1) and np.array_equal(new_c2, center_2):\n",
        "        print(\"\\n\\nClustering completed succesfully\",\n",
        "              \"\\nCentroids:\", center_1, center_2,\n",
        "              \"\\n\\nCluster_1:\\n\", cluster_1, \"\\n\\nCluster_2:\\n\", cluster_2)\n",
        "\n",
        "        plt.plot(center_1[0], center_1[1], color=\"red\", marker=(5, 1), markersize=12)\n",
        "        plt.annotate(\"Center_1\", xy=(center_1[0], center_1[1]))\n",
        "        plt.plot(return_list(cluster_1, 0), return_list(cluster_1, 1), \"ro\")\n",
        "\n",
        "        plt.plot(center_2[0], center_2[1], color=\"blue\", marker=(5, 1), markersize=12)\n",
        "        plt.annotate(\"Center_2\", xy=(center_2[0], center_2[1]))\n",
        "        plt.plot(return_list(cluster_2, 0), return_list(cluster_2, 1), \"bo\")\n",
        "        plt.show()\n",
        "        break\n",
        "    else:\n",
        "        center_1 = new_c1\n",
        "        center_2 = new_c2\n",
        "        print(\"\\n\\nCentroids have changed:\", center_1, center_2,\n",
        "              \"\\n\\nCluster_1:\\n\", cluster_1, \"\\n\\nCluster_2:\\n\", cluster_2, \"\\n\")\n",
        "\n",
        "    cluster_1 = np.empty((0, 2), int)\n",
        "    cluster_2 = np.empty((0, 2), int)"
      ]
    },
    {
      "cell_type": "markdown",
      "metadata": {
        "id": "5nr6YhuyUgzk"
      },
      "source": [
        "**Dataset 2(*Iris Dataset*)**"
      ]
    },
    {
      "cell_type": "code",
      "execution_count": 3,
      "metadata": {
        "colab": {
          "base_uri": "https://localhost:8080/",
          "height": 73
        },
        "id": "BFmf-suLUshB",
        "outputId": "7032e5dc-1589-4cde-c9e3-ca4355955901"
      },
      "outputs": [
        {
          "data": {
            "text/html": [
              "\n",
              "     <input type=\"file\" id=\"files-81cd67d0-2de5-447d-b2fb-0845515e0745\" name=\"files[]\" multiple disabled\n",
              "        style=\"border:none\" />\n",
              "     <output id=\"result-81cd67d0-2de5-447d-b2fb-0845515e0745\">\n",
              "      Upload widget is only available when the cell has been executed in the\n",
              "      current browser session. Please rerun this cell to enable.\n",
              "      </output>\n",
              "      <script>// Copyright 2017 Google LLC\n",
              "//\n",
              "// Licensed under the Apache License, Version 2.0 (the \"License\");\n",
              "// you may not use this file except in compliance with the License.\n",
              "// You may obtain a copy of the License at\n",
              "//\n",
              "//      http://www.apache.org/licenses/LICENSE-2.0\n",
              "//\n",
              "// Unless required by applicable law or agreed to in writing, software\n",
              "// distributed under the License is distributed on an \"AS IS\" BASIS,\n",
              "// WITHOUT WARRANTIES OR CONDITIONS OF ANY KIND, either express or implied.\n",
              "// See the License for the specific language governing permissions and\n",
              "// limitations under the License.\n",
              "\n",
              "/**\n",
              " * @fileoverview Helpers for google.colab Python module.\n",
              " */\n",
              "(function(scope) {\n",
              "function span(text, styleAttributes = {}) {\n",
              "  const element = document.createElement('span');\n",
              "  element.textContent = text;\n",
              "  for (const key of Object.keys(styleAttributes)) {\n",
              "    element.style[key] = styleAttributes[key];\n",
              "  }\n",
              "  return element;\n",
              "}\n",
              "\n",
              "// Max number of bytes which will be uploaded at a time.\n",
              "const MAX_PAYLOAD_SIZE = 100 * 1024;\n",
              "\n",
              "function _uploadFiles(inputId, outputId) {\n",
              "  const steps = uploadFilesStep(inputId, outputId);\n",
              "  const outputElement = document.getElementById(outputId);\n",
              "  // Cache steps on the outputElement to make it available for the next call\n",
              "  // to uploadFilesContinue from Python.\n",
              "  outputElement.steps = steps;\n",
              "\n",
              "  return _uploadFilesContinue(outputId);\n",
              "}\n",
              "\n",
              "// This is roughly an async generator (not supported in the browser yet),\n",
              "// where there are multiple asynchronous steps and the Python side is going\n",
              "// to poll for completion of each step.\n",
              "// This uses a Promise to block the python side on completion of each step,\n",
              "// then passes the result of the previous step as the input to the next step.\n",
              "function _uploadFilesContinue(outputId) {\n",
              "  const outputElement = document.getElementById(outputId);\n",
              "  const steps = outputElement.steps;\n",
              "\n",
              "  const next = steps.next(outputElement.lastPromiseValue);\n",
              "  return Promise.resolve(next.value.promise).then((value) => {\n",
              "    // Cache the last promise value to make it available to the next\n",
              "    // step of the generator.\n",
              "    outputElement.lastPromiseValue = value;\n",
              "    return next.value.response;\n",
              "  });\n",
              "}\n",
              "\n",
              "/**\n",
              " * Generator function which is called between each async step of the upload\n",
              " * process.\n",
              " * @param {string} inputId Element ID of the input file picker element.\n",
              " * @param {string} outputId Element ID of the output display.\n",
              " * @return {!Iterable<!Object>} Iterable of next steps.\n",
              " */\n",
              "function* uploadFilesStep(inputId, outputId) {\n",
              "  const inputElement = document.getElementById(inputId);\n",
              "  inputElement.disabled = false;\n",
              "\n",
              "  const outputElement = document.getElementById(outputId);\n",
              "  outputElement.innerHTML = '';\n",
              "\n",
              "  const pickedPromise = new Promise((resolve) => {\n",
              "    inputElement.addEventListener('change', (e) => {\n",
              "      resolve(e.target.files);\n",
              "    });\n",
              "  });\n",
              "\n",
              "  const cancel = document.createElement('button');\n",
              "  inputElement.parentElement.appendChild(cancel);\n",
              "  cancel.textContent = 'Cancel upload';\n",
              "  const cancelPromise = new Promise((resolve) => {\n",
              "    cancel.onclick = () => {\n",
              "      resolve(null);\n",
              "    };\n",
              "  });\n",
              "\n",
              "  // Wait for the user to pick the files.\n",
              "  const files = yield {\n",
              "    promise: Promise.race([pickedPromise, cancelPromise]),\n",
              "    response: {\n",
              "      action: 'starting',\n",
              "    }\n",
              "  };\n",
              "\n",
              "  cancel.remove();\n",
              "\n",
              "  // Disable the input element since further picks are not allowed.\n",
              "  inputElement.disabled = true;\n",
              "\n",
              "  if (!files) {\n",
              "    return {\n",
              "      response: {\n",
              "        action: 'complete',\n",
              "      }\n",
              "    };\n",
              "  }\n",
              "\n",
              "  for (const file of files) {\n",
              "    const li = document.createElement('li');\n",
              "    li.append(span(file.name, {fontWeight: 'bold'}));\n",
              "    li.append(span(\n",
              "        `(${file.type || 'n/a'}) - ${file.size} bytes, ` +\n",
              "        `last modified: ${\n",
              "            file.lastModifiedDate ? file.lastModifiedDate.toLocaleDateString() :\n",
              "                                    'n/a'} - `));\n",
              "    const percent = span('0% done');\n",
              "    li.appendChild(percent);\n",
              "\n",
              "    outputElement.appendChild(li);\n",
              "\n",
              "    const fileDataPromise = new Promise((resolve) => {\n",
              "      const reader = new FileReader();\n",
              "      reader.onload = (e) => {\n",
              "        resolve(e.target.result);\n",
              "      };\n",
              "      reader.readAsArrayBuffer(file);\n",
              "    });\n",
              "    // Wait for the data to be ready.\n",
              "    let fileData = yield {\n",
              "      promise: fileDataPromise,\n",
              "      response: {\n",
              "        action: 'continue',\n",
              "      }\n",
              "    };\n",
              "\n",
              "    // Use a chunked sending to avoid message size limits. See b/62115660.\n",
              "    let position = 0;\n",
              "    do {\n",
              "      const length = Math.min(fileData.byteLength - position, MAX_PAYLOAD_SIZE);\n",
              "      const chunk = new Uint8Array(fileData, position, length);\n",
              "      position += length;\n",
              "\n",
              "      const base64 = btoa(String.fromCharCode.apply(null, chunk));\n",
              "      yield {\n",
              "        response: {\n",
              "          action: 'append',\n",
              "          file: file.name,\n",
              "          data: base64,\n",
              "        },\n",
              "      };\n",
              "\n",
              "      let percentDone = fileData.byteLength === 0 ?\n",
              "          100 :\n",
              "          Math.round((position / fileData.byteLength) * 100);\n",
              "      percent.textContent = `${percentDone}% done`;\n",
              "\n",
              "    } while (position < fileData.byteLength);\n",
              "  }\n",
              "\n",
              "  // All done.\n",
              "  yield {\n",
              "    response: {\n",
              "      action: 'complete',\n",
              "    }\n",
              "  };\n",
              "}\n",
              "\n",
              "scope.google = scope.google || {};\n",
              "scope.google.colab = scope.google.colab || {};\n",
              "scope.google.colab._files = {\n",
              "  _uploadFiles,\n",
              "  _uploadFilesContinue,\n",
              "};\n",
              "})(self);\n",
              "</script> "
            ],
            "text/plain": [
              "<IPython.core.display.HTML object>"
            ]
          },
          "metadata": {},
          "output_type": "display_data"
        },
        {
          "name": "stdout",
          "output_type": "stream",
          "text": [
            "Saving Iris.csv to Iris (1).csv\n"
          ]
        }
      ],
      "source": [
        "from google.colab import files\n",
        "uploaded = files.upload()"
      ]
    },
    {
      "cell_type": "code",
      "execution_count": 5,
      "metadata": {
        "id": "h27lvP8n6MxZ"
      },
      "outputs": [],
      "source": [
        "import numpy as np\n",
        "import pandas as pd\n",
        "import matplotlib.pyplot as plt\n",
        "import seaborn as sb\n",
        "import random as rand\n",
        "from sklearn.model_selection import train_test_split"
      ]
    },
    {
      "cell_type": "code",
      "execution_count": 7,
      "metadata": {
        "colab": {
          "base_uri": "https://localhost:8080/",
          "height": 0
        },
        "id": "5mIbhV--53jW",
        "outputId": "c95c5a3a-ccac-442d-ffc5-cd6f7e3a11f4"
      },
      "outputs": [
        {
          "name": "stdout",
          "output_type": "stream",
          "text": [
            "[0, 0, 0, 0, 0, 0, 0, 0, 0, 0, 0, 0, 0, 0, 0, 0, 0, 0, 0, 0, 0, 0, 0, 0, 0, 0, 0, 0, 0, 0, 0, 0, 0, 0, 0, 0, 0, 0, 0, 0, 0, 0, 1, 1, 1, 1, 1, 1, 1, 1, 1, 1, 1, 1, 1, 1, 1, 1, 1, 1, 1, 1, 1, 1, 1, 1, 1, 1, 1, 1, 1, 1, 1, 1, 1, 1, 1, 1, 1, 1, 1, 1, 1, 1, 1, 1, 1, 1, 1, 1, 1, 1, 1, 1, 1, 1, 1, 1, 2, 2, 2, 2, 2, 2, 2, 2, 2, 2, 2, 2, 2, 2, 2, 2, 2, 2, 2, 2, 2, 2, 2, 2, 2, 2, 2, 2, 2, 2, 2, 2, 2, 2, 2, 2, 2, 2, 2, 2, 2, 2, 2, 2, 2, 2, 2, 2, 2, 2, 2]\n"
          ]
        }
      ],
      "source": [
        "import pandas as pd\n",
        "import numpy as np\n",
        "import random as rand\n",
        "\n",
        "# Load data\n",
        "data = pd.read_csv('Iris.csv')\n",
        "\n",
        "# Drop label column if it exists\n",
        "if 'label' in data.columns:\n",
        "    data = data.drop(columns=['label'])\n",
        "elif 'Species' in data.columns:  # In case it's named 'Species'\n",
        "    data = data.drop(columns=['Species'])\n",
        "\n",
        "# Drop the first row safely\n",
        "data = data.drop(index=0).reset_index(drop=True)\n",
        "\n",
        "# Convert to list\n",
        "all_vals = data.values.tolist()\n",
        "\n",
        "# Function to generate K random centroids\n",
        "def random_centroids(all_vals, K):\n",
        "    centroids = []\n",
        "    for i in range(K):\n",
        "        centroid = all_vals[rand.randint(0, len(all_vals)-1)]\n",
        "        centroids.append(centroid)\n",
        "    return centroids\n",
        "\n",
        "centroids = random_centroids(all_vals, 3)\n",
        "\n",
        "# Function to assign clusters\n",
        "def assign_cluster(all_vals, centroids):\n",
        "    assignments = []\n",
        "\n",
        "    for data_point in all_vals:\n",
        "        dist_point_clust = []\n",
        "\n",
        "        for centroid in centroids:\n",
        "            # Compute Euclidean distance\n",
        "            d_clust = np.linalg.norm(np.array(data_point, dtype=float) - np.array(centroid, dtype=float))\n",
        "            dist_point_clust.append(d_clust)\n",
        "\n",
        "        # Assign closest centroid index\n",
        "        assignment = np.argmin(dist_point_clust)\n",
        "        assignments.append(assignment)\n",
        "\n",
        "    return assignments\n",
        "\n",
        "# Assign clusters\n",
        "assignments = assign_cluster(all_vals, centroids)\n",
        "print(assignments)\n"
      ]
    }
  ],
  "metadata": {
    "colab": {
      "provenance": []
    },
    "kernelspec": {
      "display_name": "Python 3",
      "name": "python3"
    },
    "language_info": {
      "name": "python"
    }
  },
  "nbformat": 4,
  "nbformat_minor": 0
}
